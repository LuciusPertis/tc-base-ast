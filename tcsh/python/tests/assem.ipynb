{
 "cells": [
  {
   "cell_type": "markdown",
   "id": "b8caa27f",
   "metadata": {},
   "source": [
    "# Import Tiger and Assem"
   ]
  },
  {
   "cell_type": "code",
   "execution_count": 1,
   "id": "9cb3bce5",
   "metadata": {},
   "outputs": [],
   "source": [
    "import tc"
   ]
  },
  {
   "cell_type": "code",
   "execution_count": 2,
   "id": "be38c5fe",
   "metadata": {},
   "outputs": [
    {
     "data": {
      "text/plain": [
       "True"
      ]
     },
     "execution_count": 2,
     "metadata": {},
     "output_type": "execute_result"
    }
   ],
   "source": [
    "tc.has(\"assem\")"
   ]
  },
  {
   "cell_type": "code",
   "execution_count": 3,
   "id": "9fe09a20",
   "metadata": {},
   "outputs": [
    {
     "data": {
      "text/plain": [
       "True"
      ]
     },
     "execution_count": 3,
     "metadata": {},
     "output_type": "execute_result"
    }
   ],
   "source": [
    "import tiger_assem\n",
    "tiger_assem == tc.assem"
   ]
  },
  {
   "cell_type": "markdown",
   "id": "3b3a7285",
   "metadata": {},
   "source": [
    "# Assem Library"
   ]
  },
  {
   "cell_type": "code",
   "execution_count": 4,
   "id": "ca63f3fb",
   "metadata": {},
   "outputs": [
    {
     "data": {
      "text/plain": [
       "['Comment',\n",
       " 'DataFrag',\n",
       " 'Fragment',\n",
       " 'FragmentVector',\n",
       " 'Fragments',\n",
       " 'Instr',\n",
       " 'InstrVector',\n",
       " 'Instrs',\n",
       " 'Label',\n",
       " 'Move',\n",
       " 'Oper',\n",
       " 'ProcFrag',\n",
       " 'cvar']"
      ]
     },
     "execution_count": 4,
     "metadata": {},
     "output_type": "execute_result"
    }
   ],
   "source": [
    "list(filter(lambda e: not (e.startswith(\"_\") or e.startswith(\"tiger\") or e.startswith(\"Swig\") or e.upper() == e), dir(tc.assem)))"
   ]
  },
  {
   "cell_type": "markdown",
   "id": "35825bf6",
   "metadata": {},
   "source": [
    "# Assem example"
   ]
  },
  {
   "cell_type": "code",
   "execution_count": 5,
   "id": "0ee4cd72",
   "metadata": {},
   "outputs": [],
   "source": [
    "import tempfile\n",
    "\n",
    "with tempfile.NamedTemporaryFile() as f:\n",
    "    f.write(b\"let var b := 5 in print_int(b) end\")\n",
    "    f.seek(0)\n",
    "    executor = tc.ti.TiExecutor(f.name)\n",
    "    executor.init_target()\n",
    "    fragments = executor.data.fragments\n",
    "    target = executor.data.target"
   ]
  },
  {
   "cell_type": "code",
   "execution_count": 6,
   "id": "ba562f4f",
   "metadata": {},
   "outputs": [
    {
     "name": "stdout",
     "output_type": "stream",
     "text": [
      "<class 'tiger_assem.Fragments'>\n",
      "\n",
      "\n"
     ]
    }
   ],
   "source": [
    "lir_fragments = tc.target.lir_to_assem(fragments, target)\n",
    "print(type(lir_fragments))\n",
    "print(str(lir_fragments).split(\"\\n\\n\")[-1])"
   ]
  },
  {
   "cell_type": "code",
   "execution_count": 7,
   "id": "54355529",
   "metadata": {},
   "outputs": [
    {
     "name": "stdout",
     "output_type": "stream",
     "text": [
      "True\n",
      "<class 'tiger_assem.ProcFrag'>\n",
      "\n",
      "<class 'tiger_temp.Label'> main\n",
      "<class 'tiger_misc.symbol'> _main\n"
     ]
    }
   ],
   "source": [
    "print(len(lir_fragments) >= 1)\n",
    "last_frag = lir_fragments[-1]\n",
    "print(type(last_frag))\n",
    "\n",
    "print()\n",
    "\n",
    "print(type(last_frag.label_get()), last_frag.label_get())\n",
    "print(type(last_frag.name_get()), last_frag.name_get())"
   ]
  },
  {
   "cell_type": "code",
   "execution_count": 8,
   "id": "6802d215",
   "metadata": {},
   "outputs": [
    {
     "name": "stdout",
     "output_type": "stream",
     "text": [
      "<class 'tiger_assem.Instrs'>\n",
      "31\n",
      "<class 'tiger_assem.Label'>   | tc_main:\n",
      "<class 'tiger_assem.Label'>   | # Allocate frame\n",
      "<class 'tiger_assem.Move'>    | \tmove\tt26, $ra\n",
      "<class 'tiger_assem.Move'>    | \tmove\tt18, $s0\n",
      "<class 'tiger_assem.Move'>    | \tmove\tt19, $s1\n",
      "<class 'tiger_assem.Move'>    | \tmove\tt20, $s2\n",
      "<class 'tiger_assem.Move'>    | \tmove\tt21, $s3\n",
      "<class 'tiger_assem.Move'>    | \tmove\tt22, $s4\n",
      "<class 'tiger_assem.Move'>    | \tmove\tt23, $s5\n",
      "<class 'tiger_assem.Move'>    | \tmove\tt24, $s6\n",
      "<class 'tiger_assem.Move'>    | \tmove\tt25, $s7\n",
      "<class 'tiger_assem.Label'>   | l3:\n",
      "<class 'tiger_assem.Oper'>    | \tli\tt15, 0\n",
      "<class 'tiger_assem.Oper'>    | \tsw\tt15, (fp)\n",
      "<class 'tiger_assem.Oper'>    | \tli\tt16, 5\n",
      "<class 'tiger_assem.Oper'>    | \tsw\tt16, -4 (fp)\n",
      "<class 'tiger_assem.Oper'>    | \tlw\tt17, -4 (fp)\n",
      "<class 'tiger_assem.Move'>    | \tmove\t$a0, t17\n",
      "<class 'tiger_assem.Oper'>    | \tjal\ttc_print_int\n",
      "<class 'tiger_assem.Label'>   | l4:\n",
      "<class 'tiger_assem.Move'>    | \tmove\t$s0, t18\n",
      "<class 'tiger_assem.Move'>    | \tmove\t$s1, t19\n",
      "<class 'tiger_assem.Move'>    | \tmove\t$s2, t20\n",
      "<class 'tiger_assem.Move'>    | \tmove\t$s3, t21\n",
      "<class 'tiger_assem.Move'>    | \tmove\t$s4, t22\n",
      "<class 'tiger_assem.Move'>    | \tmove\t$s5, t23\n",
      "<class 'tiger_assem.Move'>    | \tmove\t$s6, t24\n",
      "<class 'tiger_assem.Move'>    | \tmove\t$s7, t25\n",
      "<class 'tiger_assem.Move'>    | \tmove\t$ra, t26\n",
      "<class 'tiger_assem.Label'>   | # Deallocate frame\n",
      "<class 'tiger_assem.Oper'>    | \tjr\t$ra\n"
     ]
    }
   ],
   "source": [
    "main_instrs = last_frag.instrs_get()\n",
    "print(type(main_instrs))\n",
    "print(len(main_instrs))\n",
    "for i in range(len(main_instrs)):\n",
    "    e = main_instrs[i]\n",
    "    print(\"{: <30}| {}\".format(str(type(e)), str(e)))"
   ]
  }
 ],
 "metadata": {
  "kernelspec": {
   "display_name": "Python 3 (ipykernel)",
   "language": "python",
   "name": "python3"
  },
  "language_info": {
   "codemirror_mode": {
    "name": "ipython",
    "version": 3
   },
   "file_extension": ".py",
   "mimetype": "text/x-python",
   "name": "python",
   "nbconvert_exporter": "python",
   "pygments_lexer": "ipython3",
   "version": "3.10.2"
  }
 },
 "nbformat": 4,
 "nbformat_minor": 5
}
