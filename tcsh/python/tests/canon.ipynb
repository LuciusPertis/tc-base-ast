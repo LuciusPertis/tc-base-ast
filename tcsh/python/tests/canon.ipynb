{
 "cells": [
  {
   "cell_type": "markdown",
   "id": "b8caa27f",
   "metadata": {},
   "source": [
    "# Import Tiger and Canon"
   ]
  },
  {
   "cell_type": "code",
   "execution_count": 1,
   "id": "9cb3bce5",
   "metadata": {},
   "outputs": [],
   "source": [
    "import tc"
   ]
  },
  {
   "cell_type": "code",
   "execution_count": 2,
   "id": "be38c5fe",
   "metadata": {},
   "outputs": [
    {
     "data": {
      "text/plain": [
       "True"
      ]
     },
     "execution_count": 2,
     "metadata": {},
     "output_type": "execute_result"
    }
   ],
   "source": [
    "tc.has(\"canon\")"
   ]
  },
  {
   "cell_type": "code",
   "execution_count": 3,
   "id": "9fe09a20",
   "metadata": {},
   "outputs": [
    {
     "data": {
      "text/plain": [
       "True"
      ]
     },
     "execution_count": 3,
     "metadata": {},
     "output_type": "execute_result"
    }
   ],
   "source": [
    "import tiger_canon\n",
    "tiger_canon == tc.canon"
   ]
  },
  {
   "cell_type": "markdown",
   "id": "3b3a7285",
   "metadata": {},
   "source": [
    "# Canon Library"
   ]
  },
  {
   "cell_type": "code",
   "execution_count": 4,
   "id": "2be2f25d",
   "metadata": {},
   "outputs": [
    {
     "data": {
      "text/plain": [
       "['canonicalize', 'make_traces']"
      ]
     },
     "execution_count": 4,
     "metadata": {},
     "output_type": "execute_result"
    }
   ],
   "source": [
    "list(filter(lambda e: not e.startswith(\"_\") and not e.startswith(\"tiger\"), dir(tc.canon)))"
   ]
  },
  {
   "cell_type": "markdown",
   "id": "58f78f47",
   "metadata": {},
   "source": [
    "# Tiger Magics and Canon"
   ]
  },
  {
   "cell_type": "code",
   "execution_count": 5,
   "id": "ca95e637",
   "metadata": {},
   "outputs": [],
   "source": [
    "%%tiger executor lir\n",
    "let\n",
    "    var b := 5\n",
    "in\n",
    "    print_int(b)\n",
    "end"
   ]
  },
  {
   "cell_type": "code",
   "execution_count": 6,
   "id": "f1f4950d",
   "metadata": {},
   "outputs": [
    {
     "name": "stdout",
     "output_type": "stream",
     "text": [
      "# Routine: _new_Object\n",
      "label l0\n"
     ]
    }
   ],
   "source": [
    "fragments = executor.fragments\n",
    "print(*str(fragments).splitlines()[0:2], sep=\"\\n\")"
   ]
  },
  {
   "cell_type": "code",
   "execution_count": 7,
   "id": "1c5ed89d",
   "metadata": {},
   "outputs": [
    {
     "name": "stdout",
     "output_type": "stream",
     "text": [
      "5\n"
     ]
    }
   ],
   "source": [
    "print(executor.result)"
   ]
  },
  {
   "cell_type": "markdown",
   "id": "35825bf6",
   "metadata": {},
   "source": [
    "# Canon example\n",
    "In Tiger Magics it run translate, canonicalize and make_traces ; then run havm (see tcsh/python/ti.py)"
   ]
  },
  {
   "cell_type": "code",
   "execution_count": 8,
   "id": "0ee4cd72",
   "metadata": {},
   "outputs": [],
   "source": [
    "import tempfile\n",
    "\n",
    "with tempfile.NamedTemporaryFile() as f:\n",
    "    f.write(b\"let var b := 5 in print_int(b) end\")\n",
    "    f.seek(0)\n",
    "    fragments = tc.ti.TiExecutor(f.name).translate()"
   ]
  },
  {
   "cell_type": "code",
   "execution_count": 9,
   "id": "712e729b",
   "metadata": {},
   "outputs": [
    {
     "name": "stdout",
     "output_type": "stream",
     "text": [
      "seq\n",
      "  move\n",
      "    mem\n",
      "      temp fp\n",
      "    const 0\n",
      "  seq\n",
      "    seq\n",
      "      move\n",
      "        mem\n",
      "          binop add\n",
      "            temp fp\n",
      "            const -4\n",
      "        const 5\n",
      "      sxp\n",
      "        call\n",
      "          name print_int\n",
      "          mem\n",
      "            binop add\n",
      "              temp fp\n",
      "              const -4\n",
      "        call end\n",
      "    seq end\n",
      "    sxp\n",
      "      const 0\n",
      "  seq end\n",
      "seq end\n"
     ]
    }
   ],
   "source": [
    "def print_main_frag() -> \"void\":\n",
    "    global fragments\n",
    "    print(fragments[-1].body_get())\n",
    "\n",
    "print_main_frag()"
   ]
  },
  {
   "cell_type": "code",
   "execution_count": 10,
   "id": "29d68680",
   "metadata": {},
   "outputs": [],
   "source": [
    "tc.canon.canonicalize(fragments)"
   ]
  },
  {
   "cell_type": "code",
   "execution_count": 11,
   "id": "28fe5e77",
   "metadata": {},
   "outputs": [
    {
     "name": "stdout",
     "output_type": "stream",
     "text": [
      "seq\n",
      "  move\n",
      "    mem\n",
      "      temp fp\n",
      "    const 0\n",
      "  move\n",
      "    mem\n",
      "      binop add\n",
      "        temp fp\n",
      "        const -4\n",
      "    const 5\n",
      "  sxp\n",
      "    call\n",
      "      name print_int\n",
      "      mem\n",
      "        binop add\n",
      "          temp fp\n",
      "          const -4\n",
      "    call end\n",
      "seq end\n"
     ]
    }
   ],
   "source": [
    "print_main_frag()"
   ]
  },
  {
   "cell_type": "code",
   "execution_count": 12,
   "id": "79230b50",
   "metadata": {},
   "outputs": [],
   "source": [
    "tc.canon.make_traces(fragments)"
   ]
  },
  {
   "cell_type": "code",
   "execution_count": 13,
   "id": "61f65b2f",
   "metadata": {},
   "outputs": [
    {
     "name": "stdout",
     "output_type": "stream",
     "text": [
      "seq\n",
      "  label l8\n",
      "  move\n",
      "    mem\n",
      "      temp fp\n",
      "    const 0\n",
      "  move\n",
      "    mem\n",
      "      binop add\n",
      "        temp fp\n",
      "        const -4\n",
      "    const 5\n",
      "  sxp\n",
      "    call\n",
      "      name print_int\n",
      "      mem\n",
      "        binop add\n",
      "          temp fp\n",
      "          const -4\n",
      "    call end\n",
      "  label l9\n",
      "seq end\n"
     ]
    }
   ],
   "source": [
    "print_main_frag()"
   ]
  }
 ],
 "metadata": {
  "kernelspec": {
   "display_name": "Python 3 (ipykernel)",
   "language": "python",
   "name": "python3"
  },
  "language_info": {
   "codemirror_mode": {
    "name": "ipython",
    "version": 3
   },
   "file_extension": ".py",
   "mimetype": "text/x-python",
   "name": "python",
   "nbconvert_exporter": "python",
   "pygments_lexer": "ipython3",
   "version": "3.10.2"
  }
 },
 "nbformat": 4,
 "nbformat_minor": 5
}
