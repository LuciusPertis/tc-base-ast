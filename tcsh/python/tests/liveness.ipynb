{
 "cells": [
  {
   "cell_type": "markdown",
   "id": "b8caa27f",
   "metadata": {},
   "source": [
    "# Import Tiger and Liveness"
   ]
  },
  {
   "cell_type": "code",
   "execution_count": 1,
   "id": "9cb3bce5",
   "metadata": {},
   "outputs": [],
   "source": [
    "import tc"
   ]
  },
  {
   "cell_type": "code",
   "execution_count": 2,
   "id": "be38c5fe",
   "metadata": {},
   "outputs": [
    {
     "data": {
      "text/plain": [
       "True"
      ]
     },
     "execution_count": 2,
     "metadata": {},
     "output_type": "execute_result"
    }
   ],
   "source": [
    "tc.has(\"liveness\")"
   ]
  },
  {
   "cell_type": "code",
   "execution_count": 3,
   "id": "9fe09a20",
   "metadata": {},
   "outputs": [
    {
     "data": {
      "text/plain": [
       "True"
      ]
     },
     "execution_count": 3,
     "metadata": {},
     "output_type": "execute_result"
    }
   ],
   "source": [
    "import tiger_liveness\n",
    "tiger_liveness == tc.liveness"
   ]
  },
  {
   "cell_type": "markdown",
   "id": "3b3a7285",
   "metadata": {},
   "source": [
    "# Liveness Library"
   ]
  },
  {
   "cell_type": "code",
   "execution_count": 4,
   "id": "ca63f3fb",
   "metadata": {},
   "outputs": [
    {
     "data": {
      "text/plain": [
       "['flowgraph_dump', 'interference_dump', 'liveness_dump']"
      ]
     },
     "execution_count": 4,
     "metadata": {},
     "output_type": "execute_result"
    }
   ],
   "source": [
    "list(filter(lambda e: not (e.startswith(\"_\") or e.startswith(\"tiger\")), dir(tc.liveness)))"
   ]
  },
  {
   "cell_type": "markdown",
   "id": "5d617b46",
   "metadata": {},
   "source": [
    "# Liveness example"
   ]
  },
  {
   "cell_type": "code",
   "execution_count": 5,
   "id": "0ee4cd72",
   "metadata": {},
   "outputs": [],
   "source": [
    "import tempfile\n",
    "\n",
    "with tempfile.NamedTemporaryFile() as f:\n",
    "    f.write(b\"let var b := 5 in print_int(b) end\")\n",
    "    f.seek(0)\n",
    "    executor = tc.ti.TiExecutor(f.name)\n",
    "    executor.init_target()\n",
    "    fragments = executor.data.fragments\n",
    "    target = executor.data.target\n",
    "    lir_fragments = tc.target.lir_to_assem(fragments, target)"
   ]
  },
  {
   "cell_type": "code",
   "execution_count": 6,
   "id": "85d1c2da",
   "metadata": {},
   "outputs": [],
   "source": [
    "my_timer = tc.misc.timer()\n",
    "my_timer.start()"
   ]
  },
  {
   "cell_type": "code",
   "execution_count": 7,
   "id": "ba562f4f",
   "metadata": {},
   "outputs": [],
   "source": [
    "with tempfile.NamedTemporaryFile() as f:\n",
    "    my_timer.push(\"flowgraph\")\n",
    "    tc.liveness.flowgraph_dump(f.name, lir_fragments, my_timer)\n",
    "    f.seek(0)"
   ]
  },
  {
   "cell_type": "code",
   "execution_count": 8,
   "id": "68955b8e",
   "metadata": {},
   "outputs": [
    {
     "name": "stderr",
     "output_type": "stream",
     "text": [
      "Execution times (seconds)\n",
      "\n",
      "Cumulated times (seconds)\n",
      " flowgraph               : -0.46  (-4.6e+03%)   -0.05  ( -500%)   -1.43649e+07 (-7.18e+10%) \n",
      "\n",
      " TOTAL (seconds)         : 0.01   user,      0.01   system,    0.02   wall\n"
     ]
    }
   ],
   "source": [
    "#DONTCHECK\n",
    "my_timer.stop()\n",
    "my_timer.dump()"
   ]
  }
 ],
 "metadata": {
  "kernelspec": {
   "display_name": "Python 3 (ipykernel)",
   "language": "python",
   "name": "python3"
  },
  "language_info": {
   "codemirror_mode": {
    "name": "ipython",
    "version": 3
   },
   "file_extension": ".py",
   "mimetype": "text/x-python",
   "name": "python",
   "nbconvert_exporter": "python",
   "pygments_lexer": "ipython3",
   "version": "3.10.1"
  }
 },
 "nbformat": 4,
 "nbformat_minor": 5
}
