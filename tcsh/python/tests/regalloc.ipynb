{
 "cells": [
  {
   "cell_type": "markdown",
   "id": "b8caa27f",
   "metadata": {},
   "source": [
    "# Import Tiger and Regalloc"
   ]
  },
  {
   "cell_type": "code",
   "execution_count": 1,
   "id": "9cb3bce5",
   "metadata": {},
   "outputs": [],
   "source": [
    "import tc"
   ]
  },
  {
   "cell_type": "code",
   "execution_count": 2,
   "id": "be38c5fe",
   "metadata": {},
   "outputs": [
    {
     "data": {
      "text/plain": [
       "True"
      ]
     },
     "execution_count": 2,
     "metadata": {},
     "output_type": "execute_result"
    }
   ],
   "source": [
    "tc.has(\"regalloc\")"
   ]
  },
  {
   "cell_type": "code",
   "execution_count": 3,
   "id": "9fe09a20",
   "metadata": {},
   "outputs": [
    {
     "data": {
      "text/plain": [
       "True"
      ]
     },
     "execution_count": 3,
     "metadata": {},
     "output_type": "execute_result"
    }
   ],
   "source": [
    "import tiger_regalloc\n",
    "tiger_regalloc == tc.regalloc"
   ]
  },
  {
   "cell_type": "markdown",
   "id": "3b3a7285",
   "metadata": {},
   "source": [
    "# Regalloc Library"
   ]
  },
  {
   "cell_type": "code",
   "execution_count": 4,
   "id": "2be2f25d",
   "metadata": {},
   "outputs": [
    {
     "data": {
      "text/plain": [
       "['allocate_registers']"
      ]
     },
     "execution_count": 4,
     "metadata": {},
     "output_type": "execute_result"
    }
   ],
   "source": [
    "list(filter(lambda e: not e.startswith(\"_\") and not e.startswith(\"tiger\"), dir(tc.regalloc)))"
   ]
  },
  {
   "cell_type": "markdown",
   "id": "58f78f47",
   "metadata": {},
   "source": [
    "# Tiger Magics and Regalloc"
   ]
  },
  {
   "cell_type": "code",
   "execution_count": 5,
   "id": "ca95e637",
   "metadata": {},
   "outputs": [],
   "source": [
    "%%tiger ia32_executor ia32\n",
    "let\n",
    "    var b := 5\n",
    "in\n",
    "    print_int(b)\n",
    "end"
   ]
  },
  {
   "cell_type": "code",
   "execution_count": 6,
   "id": "f1f4950d",
   "metadata": {},
   "outputs": [
    {
     "name": "stdout",
     "output_type": "stream",
     "text": [
      "5\n",
      "fp -> ebp\n",
      "rv -> eax\n",
      "t0 -> eax\n",
      "t3 -> ecx\n",
      "t4 -> ecx\n",
      "t5 -> ecx\n",
      "t6 -> ebx\n",
      "t7 -> edi\n",
      "t8 -> esi\n",
      "t9 -> ecx\n",
      "t10 -> ecx\n",
      "t11 -> ecx\n",
      "t12 -> ecx\n",
      "t13 -> ebx\n",
      "t14 -> edi\n",
      "t15 -> esi\n",
      "\n"
     ]
    }
   ],
   "source": [
    "print(ia32_executor.result)\n",
    "print(ia32_executor.tempmap)"
   ]
  },
  {
   "cell_type": "code",
   "execution_count": 7,
   "id": "f59ab6f0",
   "metadata": {},
   "outputs": [],
   "source": [
    "%%tiger mips_executor mips\n",
    "let\n",
    "    var b := 5\n",
    "in\n",
    "    print_int(b)\n",
    "end"
   ]
  },
  {
   "cell_type": "code",
   "execution_count": 8,
   "id": "4c14690f",
   "metadata": {},
   "outputs": [
    {
     "name": "stdout",
     "output_type": "stream",
     "text": [
      "5\n",
      "fp -> $fp\n",
      "rv -> $v0\n",
      "t46 -> $v0\n",
      "t49 -> $a0\n",
      "t50 -> $ra\n",
      "t51 -> $ra\n",
      "t52 -> $s0\n",
      "t53 -> $s1\n",
      "t54 -> $s2\n",
      "t55 -> $s3\n",
      "t56 -> $s4\n",
      "t57 -> $s5\n",
      "t58 -> $s6\n",
      "t59 -> $s7\n",
      "t61 -> $ra\n",
      "t62 -> $ra\n",
      "t63 -> $a0\n",
      "t64 -> $s0\n",
      "t65 -> $s1\n",
      "t66 -> $s2\n",
      "t67 -> $s3\n",
      "t68 -> $s4\n",
      "t69 -> $s5\n",
      "t70 -> $s6\n",
      "t71 -> $s7\n",
      "t113 -> $ra\n",
      "t114 -> $ra\n",
      "t195 -> $ra\n",
      "t196 -> $ra\n",
      "\n"
     ]
    }
   ],
   "source": [
    "print(mips_executor.result)\n",
    "print(mips_executor.tempmap)"
   ]
  },
  {
   "cell_type": "markdown",
   "id": "35825bf6",
   "metadata": {},
   "source": [
    "# Regalloc example\n",
    "In Tiger Magics it run regalloc and then run nolimips or gcc (see tcsh/python/ti.py)"
   ]
  },
  {
   "cell_type": "code",
   "execution_count": 9,
   "id": "0ee4cd72",
   "metadata": {},
   "outputs": [],
   "source": [
    "import tempfile\n",
    "\n",
    "with tempfile.NamedTemporaryFile() as f:\n",
    "    f.write(b\"let var b := 5 in print_int(b) end\")\n",
    "    f.seek(0)\n",
    "    executor = tc.ti.TiExecutor(f.name)\n",
    "    executor.init_target()\n",
    "    data = executor.data\n",
    "    data.lir_fragments = tc.target.lir_to_assem(data.fragments, data.target)"
   ]
  },
  {
   "cell_type": "code",
   "execution_count": 10,
   "id": "29d68680",
   "metadata": {},
   "outputs": [
    {
     "name": "stdout",
     "output_type": "stream",
     "text": [
      "<class 'tiger_temp.TempMap'>\n",
      "fp -> $fp\n",
      "rv -> $v0\n",
      "t237 -> $v0\n",
      "t240 -> $a0\n",
      "t241 -> $ra\n",
      "t242 -> $ra\n",
      "t243 -> $s0\n",
      "t244 -> $s1\n",
      "t245 -> $s2\n",
      "t246 -> $s3\n",
      "t247 -> $s4\n",
      "t248 -> $s5\n",
      "t249 -> $s6\n",
      "t250 -> $s7\n",
      "t252 -> $ra\n",
      "t253 -> $ra\n",
      "t254 -> $a0\n",
      "t255 -> $s0\n",
      "t256 -> $s1\n",
      "t257 -> $s2\n",
      "t258 -> $s3\n",
      "t259 -> $s4\n",
      "t260 -> $s5\n",
      "t261 -> $s6\n",
      "t262 -> $s7\n",
      "t304 -> $ra\n",
      "t305 -> $ra\n",
      "t386 -> $ra\n",
      "t387 -> $ra\n",
      "\n"
     ]
    }
   ],
   "source": [
    "data.tempmap = data.target.cpu_get().tempmap_get()\n",
    "data.tempmap = tc.regalloc.allocate_registers(data.lir_fragments, data.target, data.tempmap, tc.common.cvar.timer)\n",
    "tc.target.frame_allocate(data.lir_fragments, data.target)\n",
    "\n",
    "print(type(data.tempmap))\n",
    "print(data.tempmap)"
   ]
  }
 ],
 "metadata": {
  "kernelspec": {
   "display_name": "Python 3 (ipykernel)",
   "language": "python",
   "name": "python3"
  },
  "language_info": {
   "codemirror_mode": {
    "name": "ipython",
    "version": 3
   },
   "file_extension": ".py",
   "mimetype": "text/x-python",
   "name": "python",
   "nbconvert_exporter": "python",
   "pygments_lexer": "ipython3",
   "version": "3.10.2"
  }
 },
 "nbformat": 4,
 "nbformat_minor": 5
}
