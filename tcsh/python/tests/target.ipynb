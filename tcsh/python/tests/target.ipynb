{
 "cells": [
  {
   "cell_type": "markdown",
   "id": "b8caa27f",
   "metadata": {},
   "source": [
    "# Import Tiger and Target"
   ]
  },
  {
   "cell_type": "code",
   "execution_count": 1,
   "id": "9cb3bce5",
   "metadata": {},
   "outputs": [],
   "source": [
    "import tc"
   ]
  },
  {
   "cell_type": "code",
   "execution_count": 2,
   "id": "be38c5fe",
   "metadata": {},
   "outputs": [
    {
     "data": {
      "text/plain": [
       "True"
      ]
     },
     "execution_count": 2,
     "metadata": {},
     "output_type": "execute_result"
    }
   ],
   "source": [
    "tc.has(\"target\")"
   ]
  },
  {
   "cell_type": "code",
   "execution_count": 3,
   "id": "9fe09a20",
   "metadata": {},
   "outputs": [
    {
     "data": {
      "text/plain": [
       "True"
      ]
     },
     "execution_count": 3,
     "metadata": {},
     "output_type": "execute_result"
    }
   ],
   "source": [
    "import tiger_target\n",
    "tiger_target == tc.target"
   ]
  },
  {
   "cell_type": "markdown",
   "id": "3b3a7285",
   "metadata": {},
   "source": [
    "# Target Library"
   ]
  },
  {
   "cell_type": "code",
   "execution_count": 4,
   "id": "2be2f25d",
   "metadata": {},
   "outputs": [
    {
     "data": {
      "text/plain": [
       "['ArmCpu',\n",
       " 'ArmTarget',\n",
       " 'Cpu',\n",
       " 'CpuLimits',\n",
       " 'Ia32Cpu',\n",
       " 'Ia32Target',\n",
       " 'MipsCpu',\n",
       " 'MipsTarget',\n",
       " 'Target',\n",
       " 'frame_allocate',\n",
       " 'instructions_dump',\n",
       " 'lir_to_assem',\n",
       " 'runtime_dump']"
      ]
     },
     "execution_count": 4,
     "metadata": {},
     "output_type": "execute_result"
    }
   ],
   "source": [
    "list(filter(lambda e: not e.startswith(\"_\") and not e.startswith(\"tiger\"), dir(tc.target)))"
   ]
  },
  {
   "cell_type": "markdown",
   "id": "35825bf6",
   "metadata": {},
   "source": [
    "# Target example"
   ]
  },
  {
   "cell_type": "code",
   "execution_count": 5,
   "id": "0ee4cd72",
   "metadata": {},
   "outputs": [],
   "source": [
    "import tempfile\n",
    "\n",
    "with tempfile.NamedTemporaryFile() as f:\n",
    "    f.write(b\"let var b := 5 in print_int(b) end\")\n",
    "    f.seek(0)\n",
    "    fragments = tc.ti.TiExecutor(f.name).translate()"
   ]
  },
  {
   "cell_type": "code",
   "execution_count": 6,
   "id": "adb20810",
   "metadata": {},
   "outputs": [
    {
     "name": "stdout",
     "output_type": "stream",
     "text": [
      "<class 'tiger_target.CpuLimits'>\n"
     ]
    }
   ],
   "source": [
    "cpu_limits = tc.target.CpuLimits()\n",
    "print(type(cpu_limits))"
   ]
  },
  {
   "cell_type": "code",
   "execution_count": 7,
   "id": "29d68680",
   "metadata": {},
   "outputs": [
    {
     "name": "stdout",
     "output_type": "stream",
     "text": [
      "<class 'tiger_target.MipsTarget'>\n",
      "CPU (27)\n",
      "Arguments   (4): $a0, $a1, $a2, $a3\n",
      "Caller Save (11): $ra $t0 $t1 $t2 $t3 $t4 $t5 $t6 $t7 $t8 $t9\n",
      "Callee Save (8): $s0 $s1 $s2 $s3 $s4 $s5 $s6 $s7\n",
      "Special     (4): $fp $sp $v0 $zero\n",
      "TempMap\n",
      "  fp -> $fp\n",
      "  rv -> $v0\n",
      "  \n",
      "\n",
      "<class 'tiger_target.MipsCpu'>\n",
      "True\n",
      "fp_reg $fp\n",
      "result_reg $v0\n",
      "return_reg $ra\n",
      "sp_reg $sp\n",
      "zero_reg $zero\n",
      "word_size_get 4\n"
     ]
    }
   ],
   "source": [
    "mips_target = tc.target.MipsTarget(cpu_limits)\n",
    "print(type(mips_target))\n",
    "print(mips_target)\n",
    "\n",
    "mips_cpu = mips_target.cpu_get()\n",
    "print(type(mips_cpu))\n",
    "print(str(mips_cpu) == str(mips_target))\n",
    "\n",
    "for e in (\"fp_reg\", \"result_reg\", \"return_reg\", \"sp_reg\", \"zero_reg\", \"word_size_get\"):\n",
    "    print(e, str(getattr(mips_cpu, e, lambda: None)()))"
   ]
  },
  {
   "cell_type": "code",
   "execution_count": 8,
   "id": "fc619c7d",
   "metadata": {},
   "outputs": [
    {
     "name": "stdout",
     "output_type": "stream",
     "text": [
      "<class 'tiger_target.Ia32Target'>\n",
      "CPU (27)\n",
      "Arguments   (0): \n",
      "Caller Save (2): ecx edx\n",
      "Callee Save (3): ebx edi esi\n",
      "Special     (3): eax ebp esp\n",
      "TempMap\n",
      "  fp -> ebp\n",
      "  rv -> eax\n",
      "  \n",
      "\n",
      "<class 'tiger_target.Ia32Cpu'>\n",
      "True\n",
      "fp_reg ebp\n",
      "result_reg eax\n",
      "sp_reg esp\n",
      "word_size_get 4\n"
     ]
    }
   ],
   "source": [
    "ia32_target = tc.target.Ia32Target()\n",
    "print(type(ia32_target))\n",
    "print(ia32_target)\n",
    "\n",
    "ia32_cpu = ia32_target.cpu_get()\n",
    "print(type(ia32_cpu))\n",
    "print(str(ia32_cpu) == str(ia32_target))\n",
    "\n",
    "for e in (\"fp_reg\", \"result_reg\", \"sp_reg\", \"word_size_get\"):\n",
    "    print(e, str(getattr(ia32_cpu, e, lambda: None)()))"
   ]
  },
  {
   "cell_type": "code",
   "execution_count": 9,
   "id": "f7b0d526",
   "metadata": {},
   "outputs": [
    {
     "name": "stdout",
     "output_type": "stream",
     "text": [
      "<class 'tiger_target.ArmTarget'>\n",
      "CPU (27)\n",
      "Arguments   (3): r1, r2, r3\n",
      "Caller Save (0): \n",
      "Callee Save (7): r10 r4 r5 r6 r7 r8 r9\n",
      "Special     (4): fp lr r0 sp\n",
      "TempMap\n",
      "  fp -> fp\n",
      "  rv -> r0\n",
      "  \n",
      "\n",
      "<class 'tiger_target.ArmCpu'>\n",
      "True\n",
      "fp_reg fp\n",
      "lr_reg lr\n",
      "result_reg r0\n",
      "sp_reg sp\n",
      "word_size_get 4\n"
     ]
    }
   ],
   "source": [
    "arm_target = tc.target.ArmTarget()\n",
    "print(type(arm_target))\n",
    "print(arm_target)\n",
    "\n",
    "arm_cpu = arm_target.cpu_get()\n",
    "print(type(arm_cpu))\n",
    "print(str(arm_cpu) == str(arm_target))\n",
    "\n",
    "for e in (\"fp_reg\", \"lr_reg\", \"result_reg\", \"sp_reg\", \"word_size_get\"):\n",
    "    print(e, str(getattr(arm_cpu, e, lambda: None)()))"
   ]
  }
 ],
 "metadata": {
  "kernelspec": {
   "display_name": "Python 3 (ipykernel)",
   "language": "python",
   "name": "python3"
  },
  "language_info": {
   "codemirror_mode": {
    "name": "ipython",
    "version": 3
   },
   "file_extension": ".py",
   "mimetype": "text/x-python",
   "name": "python",
   "nbconvert_exporter": "python",
   "pygments_lexer": "ipython3",
   "version": "3.10.2"
  }
 },
 "nbformat": 4,
 "nbformat_minor": 5
}
