{
 "cells": [
  {
   "cell_type": "markdown",
   "id": "b8caa27f",
   "metadata": {},
   "source": [
    "# Import Tiger and Tree"
   ]
  },
  {
   "cell_type": "code",
   "execution_count": 1,
   "id": "9cb3bce5",
   "metadata": {},
   "outputs": [],
   "source": [
    "import tc"
   ]
  },
  {
   "cell_type": "code",
   "execution_count": 2,
   "id": "be38c5fe",
   "metadata": {},
   "outputs": [
    {
     "data": {
      "text/plain": [
       "True"
      ]
     },
     "execution_count": 2,
     "metadata": {},
     "output_type": "execute_result"
    }
   ],
   "source": [
    "tc.has(\"tree\")"
   ]
  },
  {
   "cell_type": "code",
   "execution_count": 3,
   "id": "9fe09a20",
   "metadata": {},
   "outputs": [
    {
     "data": {
      "text/plain": [
       "True"
      ]
     },
     "execution_count": 3,
     "metadata": {},
     "output_type": "execute_result"
    }
   ],
   "source": [
    "import tiger_tree\n",
    "tiger_tree == tc.tree"
   ]
  },
  {
   "cell_type": "markdown",
   "id": "3b3a7285",
   "metadata": {},
   "source": [
    "# Tree Library"
   ]
  },
  {
   "cell_type": "code",
   "execution_count": 4,
   "id": "2be2f25d",
   "metadata": {},
   "outputs": [
    {
     "data": {
      "text/plain": [
       "['Binop',\n",
       " 'Call',\n",
       " 'Cjump',\n",
       " 'Const',\n",
       " 'DataFrag',\n",
       " 'Eseq',\n",
       " 'Exp',\n",
       " 'Fragment',\n",
       " 'FragmentVector',\n",
       " 'Fragments',\n",
       " 'Jump',\n",
       " 'Label',\n",
       " 'Mem',\n",
       " 'Move',\n",
       " 'Name',\n",
       " 'ProcFrag',\n",
       " 'Seq',\n",
       " 'Stm',\n",
       " 'Sxp',\n",
       " 'Temp',\n",
       " 'Tree',\n",
       " 'TreeGenConstVisitor',\n",
       " 'TreeGenVisitor',\n",
       " 'dump',\n",
       " 'rBinop',\n",
       " 'rCall',\n",
       " 'rCjump',\n",
       " 'rConst',\n",
       " 'rEseq',\n",
       " 'rExp',\n",
       " 'rJump',\n",
       " 'rLabel',\n",
       " 'rMem',\n",
       " 'rMove',\n",
       " 'rName',\n",
       " 'rSeq',\n",
       " 'rStm',\n",
       " 'rSxp',\n",
       " 'rTemp',\n",
       " 'rTree',\n",
       " 'symmetrize']"
      ]
     },
     "execution_count": 4,
     "metadata": {},
     "output_type": "execute_result"
    }
   ],
   "source": [
    "def filter_search(e: str) -> bool:\n",
    "    return not (e.startswith(\"_\") or e.startswith(\"tiger\") or e.startswith(\"Swig\") or e.upper() == e)\n",
    "list(filter(filter_search, dir(tc.tree)))"
   ]
  },
  {
   "cell_type": "markdown",
   "id": "35825bf6",
   "metadata": {},
   "source": [
    "# Tree example"
   ]
  },
  {
   "cell_type": "code",
   "execution_count": 5,
   "id": "0ee4cd72",
   "metadata": {},
   "outputs": [],
   "source": [
    "import tempfile\n",
    "\n",
    "with tempfile.NamedTemporaryFile() as f:\n",
    "    f.write(b\"let var b := 5 in print_int(b) end\")\n",
    "    f.seek(0)\n",
    "    fragments = tc.ti.TiExecutor(f.name).translate()"
   ]
  },
  {
   "cell_type": "code",
   "execution_count": 6,
   "id": "29d68680",
   "metadata": {},
   "outputs": [
    {
     "name": "stdout",
     "output_type": "stream",
     "text": [
      "<class 'tiger_tree.Fragments'>\n",
      "# Routine: _new_Object\n",
      "label l0\n"
     ]
    }
   ],
   "source": [
    "print(type(fragments))\n",
    "print(*str(fragments).splitlines()[:2], sep=\"\\n\")"
   ]
  },
  {
   "cell_type": "code",
   "execution_count": 7,
   "id": "fc619c7d",
   "metadata": {},
   "outputs": [
    {
     "name": "stdout",
     "output_type": "stream",
     "text": [
      "2\n",
      "<class 'tiger_tree.ProcFrag'>\n",
      "# Routine: _new_Object\n",
      "label l0\n",
      "\n",
      "<class 'tiger_temp.Label'> l0\n",
      "<class 'tiger_misc.symbol'> _new_Object\n"
     ]
    }
   ],
   "source": [
    "print(len(fragments))\n",
    "first_frag = fragments[0]\n",
    "print(type(first_frag))\n",
    "print(*str(first_frag).splitlines()[:2], sep=\"\\n\")\n",
    "\n",
    "print()\n",
    "\n",
    "print(type(first_frag.label_get()), first_frag.label_get())\n",
    "print(type(first_frag.name_get()), first_frag.name_get())"
   ]
  },
  {
   "cell_type": "code",
   "execution_count": 8,
   "id": "f7b0d526",
   "metadata": {},
   "outputs": [
    {
     "name": "stdout",
     "output_type": "stream",
     "text": [
      "<class 'tiger_tree.rMove'>\n",
      "move\n",
      "  temp rv\n",
      "  eseq\n",
      "  seq\n",
      "    move\n",
      "      temp t0\n",
      "      call\n",
      "        name malloc\n",
      "        const 4\n",
      "      call end\n",
      "    move\n",
      "      mem\n",
      "        temp t0\n",
      "      mem\n",
      "        mem\n",
      "          temp fp\n",
      "  seq end\n",
      "    temp t0\n"
     ]
    }
   ],
   "source": [
    "main_rbody = first_frag.body_get()\n",
    "print(type(main_rbody))\n",
    "print(main_rbody)"
   ]
  },
  {
   "cell_type": "code",
   "execution_count": 9,
   "id": "d4a5995c",
   "metadata": {},
   "outputs": [
    {
     "name": "stdout",
     "output_type": "stream",
     "text": [
      "<class 'tiger_tree.Move'>\n",
      "True\n"
     ]
    }
   ],
   "source": [
    "main_body = main_rbody.get()\n",
    "print(type(main_body))\n",
    "print(str(main_body) == str(main_rbody))"
   ]
  }
 ],
 "metadata": {
  "kernelspec": {
   "display_name": "Python 3 (ipykernel)",
   "language": "python",
   "name": "python3"
  },
  "language_info": {
   "codemirror_mode": {
    "name": "ipython",
    "version": 3
   },
   "file_extension": ".py",
   "mimetype": "text/x-python",
   "name": "python",
   "nbconvert_exporter": "python",
   "pygments_lexer": "ipython3",
   "version": "3.10.2"
  }
 },
 "nbformat": 4,
 "nbformat_minor": 5
}
